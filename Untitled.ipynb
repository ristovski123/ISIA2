{
 "cells": [
  {
   "cell_type": "code",
   "execution_count": 1,
   "id": "64abbc14",
   "metadata": {},
   "outputs": [],
   "source": [
    "import pandas as pd\n",
    "import os"
   ]
  },
  {
   "cell_type": "code",
   "execution_count": 3,
   "id": "df3756fd",
   "metadata": {},
   "outputs": [
    {
     "data": {
      "text/html": [
       "<div>\n",
       "<style scoped>\n",
       "    .dataframe tbody tr th:only-of-type {\n",
       "        vertical-align: middle;\n",
       "    }\n",
       "\n",
       "    .dataframe tbody tr th {\n",
       "        vertical-align: top;\n",
       "    }\n",
       "\n",
       "    .dataframe thead th {\n",
       "        text-align: right;\n",
       "    }\n",
       "</style>\n",
       "<table border=\"1\" class=\"dataframe\">\n",
       "  <thead>\n",
       "    <tr style=\"text-align: right;\">\n",
       "      <th></th>\n",
       "      <th>obs</th>\n",
       "      <th>action</th>\n",
       "      <th>rewards</th>\n",
       "    </tr>\n",
       "  </thead>\n",
       "  <tbody>\n",
       "    <tr>\n",
       "      <th>0</th>\n",
       "      <td>[13  2  0]</td>\n",
       "      <td>0.0</td>\n",
       "      <td>NaN</td>\n",
       "    </tr>\n",
       "    <tr>\n",
       "      <th>1</th>\n",
       "      <td>[13  2  0]</td>\n",
       "      <td>NaN</td>\n",
       "      <td>-1.0</td>\n",
       "    </tr>\n",
       "    <tr>\n",
       "      <th>2</th>\n",
       "      <td>[11 10  0]</td>\n",
       "      <td>1.0</td>\n",
       "      <td>NaN</td>\n",
       "    </tr>\n",
       "    <tr>\n",
       "      <th>3</th>\n",
       "      <td>[20 10  0]</td>\n",
       "      <td>0.0</td>\n",
       "      <td>NaN</td>\n",
       "    </tr>\n",
       "    <tr>\n",
       "      <th>4</th>\n",
       "      <td>[20 10  0]</td>\n",
       "      <td>NaN</td>\n",
       "      <td>0.0</td>\n",
       "    </tr>\n",
       "    <tr>\n",
       "      <th>...</th>\n",
       "      <td>...</td>\n",
       "      <td>...</td>\n",
       "      <td>...</td>\n",
       "    </tr>\n",
       "    <tr>\n",
       "      <th>254626</th>\n",
       "      <td>[16  1  0]</td>\n",
       "      <td>1.0</td>\n",
       "      <td>NaN</td>\n",
       "    </tr>\n",
       "    <tr>\n",
       "      <th>254627</th>\n",
       "      <td>[21  1  0]</td>\n",
       "      <td>0.0</td>\n",
       "      <td>NaN</td>\n",
       "    </tr>\n",
       "    <tr>\n",
       "      <th>254628</th>\n",
       "      <td>[21  1  0]</td>\n",
       "      <td>NaN</td>\n",
       "      <td>0.0</td>\n",
       "    </tr>\n",
       "    <tr>\n",
       "      <th>254629</th>\n",
       "      <td>[21  5  1]</td>\n",
       "      <td>0.0</td>\n",
       "      <td>NaN</td>\n",
       "    </tr>\n",
       "    <tr>\n",
       "      <th>254630</th>\n",
       "      <td>[21  5  1]</td>\n",
       "      <td>NaN</td>\n",
       "      <td>1.0</td>\n",
       "    </tr>\n",
       "  </tbody>\n",
       "</table>\n",
       "<p>254631 rows × 3 columns</p>\n",
       "</div>"
      ],
      "text/plain": [
       "               obs  action  rewards\n",
       "0       [13  2  0]     0.0      NaN\n",
       "1       [13  2  0]     NaN     -1.0\n",
       "2       [11 10  0]     1.0      NaN\n",
       "3       [20 10  0]     0.0      NaN\n",
       "4       [20 10  0]     NaN      0.0\n",
       "...            ...     ...      ...\n",
       "254626  [16  1  0]     1.0      NaN\n",
       "254627  [21  1  0]     0.0      NaN\n",
       "254628  [21  1  0]     NaN      0.0\n",
       "254629  [21  5  1]     0.0      NaN\n",
       "254630  [21  5  1]     NaN      1.0\n",
       "\n",
       "[254631 rows x 3 columns]"
      ]
     },
     "execution_count": 3,
     "metadata": {},
     "output_type": "execute_result"
    }
   ],
   "source": [
    "df = pd.read_csv('jogadas.csv')\n",
    "df"
   ]
  },
  {
   "cell_type": "code",
   "execution_count": 10,
   "id": "31ae1d5b",
   "metadata": {},
   "outputs": [
    {
     "name": "stdout",
     "output_type": "stream",
     "text": [
      "            count_0.0  count_1.0  mean_0.0  mean_1.0\n",
      "obs                                                 \n",
      "[ 4 10  0]        0.0        0.0       NaN       NaN\n",
      "[ 5 10  0]        NaN        0.0       NaN       NaN\n",
      "[ 6 10  0]        NaN        0.0       NaN       NaN\n",
      "[ 7 10  0]        NaN        0.0       NaN       NaN\n",
      "[ 8 10  0]        NaN        0.0       NaN       NaN\n",
      "...               ...        ...       ...       ...\n",
      "[9 5 0]           NaN        0.0       NaN       NaN\n",
      "[9 6 0]           0.0        0.0       NaN       NaN\n",
      "[9 7 0]           NaN        0.0       NaN       NaN\n",
      "[9 8 0]           NaN        0.0       NaN       NaN\n",
      "[9 9 0]           NaN        0.0       NaN       NaN\n",
      "\n",
      "[280 rows x 4 columns]\n"
     ]
    }
   ],
   "source": [
    "\n",
    "\n",
    "# Group by 'observation' and 'action', then calculate count and mean for each group\n",
    "grouped_data = df.groupby(['obs', 'action'])['rewards'].agg(['count', 'mean']).reset_index()\n",
    "\n",
    "# Pivot the table to have separate columns for action_0 and action_1 counts and mean rewards\n",
    "pivoted_data = grouped_data.pivot(index='obs', columns='action', values=['count', 'mean'])\n",
    "\n",
    "# Rename the columns for clarity\n",
    "pivoted_data.columns = [f'{col[0]}_{col[1]}' for col in pivoted_data.columns]\n",
    "\n",
    "# Display the pivoted data\n",
    "print(pivoted_data)\n"
   ]
  },
  {
   "cell_type": "code",
   "execution_count": 6,
   "id": "23495604",
   "metadata": {},
   "outputs": [
    {
     "name": "stdout",
     "output_type": "stream",
     "text": [
      "   action  num_episodes  win_rate\n",
      "0     0.0             0       NaN\n",
      "1     1.0             0       NaN\n"
     ]
    }
   ],
   "source": [
    "grouped_data = df.groupby('action')['rewards'].agg(['count', 'mean']).reset_index()\n",
    "\n",
    "# Rename the columns for clarity\n",
    "grouped_data.rename(columns={'count': 'num_episodes', 'mean': 'win_rate'}, inplace=True)\n",
    "\n",
    "# Display the grouped data\n",
    "print(grouped_data)"
   ]
  },
  {
   "cell_type": "code",
   "execution_count": null,
   "id": "0b005356",
   "metadata": {},
   "outputs": [],
   "source": []
  }
 ],
 "metadata": {
  "kernelspec": {
   "display_name": "Python 3 (ipykernel)",
   "language": "python",
   "name": "python3"
  },
  "language_info": {
   "codemirror_mode": {
    "name": "ipython",
    "version": 3
   },
   "file_extension": ".py",
   "mimetype": "text/x-python",
   "name": "python",
   "nbconvert_exporter": "python",
   "pygments_lexer": "ipython3",
   "version": "3.10.2"
  }
 },
 "nbformat": 4,
 "nbformat_minor": 5
}
