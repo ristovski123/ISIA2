{
 "cells": [
  {
   "cell_type": "markdown",
   "source": [
    "# Segundo projeto de Introdução aos Sistemas Inteligentes e Autónomos - Blackjack"
   ],
   "metadata": {
    "collapsed": false
   }
  },
  {
   "cell_type": "markdown",
   "source": [
    "### Explicação das regras e do conceito do jogo"
   ],
   "metadata": {
    "collapsed": false
   }
  },
  {
   "cell_type": "markdown",
   "source": [
    "O Blackjack é um jogo de cartas em que o objetivo é derrotar o dealer, obtendo cartas cuja soma se aproxima o máximo possível de 21 (sem ultrapassar este número), estando mais próximas do mesmo que as cartas do dealer."
   ],
   "metadata": {
    "collapsed": false
   }
  },
  {
   "cell_type": "markdown",
   "source": [
    "O jogo é jogado com um ou mais baralhos de cartas em que o dealer recebe uma carta voltada para cima e outra para baixo, enquanto o jogador recebe duas cartas voltadas para cima.\n",
    "\n",
    "As cartas têm diferentes valores:\n",
    "- Ases têm um valor de 1 ou de 11;\n",
    "- Figuras (rei, dama, e valete) têm um valor de 10;\n",
    "- Todas as outras cartas têm o valor nelas indicado por um número.\n",
    "\n",
    "O jogador tem a opção de pedir, recebendo mais uma carta na tentativa de melhorar a sua mão, ou a opção de ficar, ficando com a mão atual.\n",
    "\n",
    "O dealer tem que pedir uma carta até que a sua mão tenha um valor de 17 ou mais.\n",
    "\n",
    "Se a mão do jogador ultrapassar 21 ele \"rebenta\" e perde o jogo.\n",
    "\n",
    "Se a mão do dealer passar de 21, o jogador ganha o jogo.\n",
    "\n",
    "Se nenhum rebentar, ganha aquele que tiver a soma mais próxima de 21.\n",
    "\n",
    "Em caso de empate não há vencedor.\n",
    "\n",
    "\n",
    "\n",
    "\n",
    "\n"
   ],
   "metadata": {
    "collapsed": false
   }
  },
  {
   "cell_type": "code",
   "execution_count": null,
   "metadata": {
    "collapsed": true
   },
   "outputs": [],
   "source": []
  }
 ],
 "metadata": {
  "kernelspec": {
   "display_name": "Python 3",
   "language": "python",
   "name": "python3"
  },
  "language_info": {
   "codemirror_mode": {
    "name": "ipython",
    "version": 2
   },
   "file_extension": ".py",
   "mimetype": "text/x-python",
   "name": "python",
   "nbconvert_exporter": "python",
   "pygments_lexer": "ipython2",
   "version": "2.7.6"
  }
 },
 "nbformat": 4,
 "nbformat_minor": 0
}
