{
 "cells": [
  {
   "cell_type": "markdown",
   "source": [
    "# Segundo projeto de Introdução aos Sistemas Inteligentes e Autónomos - Blackjack"
   ],
   "metadata": {
    "collapsed": false
   }
  },
  {
   "cell_type": "markdown",
   "source": [
    "## Explicação das regras e do conceito do jogo"
   ],
   "metadata": {
    "collapsed": false
   }
  },
  {
   "cell_type": "markdown",
   "source": [
    "O Blackjack é um jogo de cartas em que o objetivo é derrotar o dealer, obtendo cartas cuja soma se aproxima o máximo possível de 21 (sem ultrapassar este número), estando mais próximas do mesmo que as cartas do dealer."
   ],
   "metadata": {
    "collapsed": false
   }
  },
  {
   "cell_type": "markdown",
   "source": [
    "O jogo é jogado com um ou mais baralhos de cartas em que o dealer recebe uma carta voltada para cima e outra para baixo, enquanto o jogador recebe duas cartas voltadas para cima.\n",
    "\n",
    "As cartas têm diferentes valores:\n",
    "- Ases têm um valor de 1 ou de 11;\n",
    "- Figuras (rei, dama, e valete) têm um valor de 10;\n",
    "- Todas as outras cartas têm o valor nelas indicado por um número.\n",
    "\n",
    "O jogador tem a opção de pedir, recebendo mais uma carta na tentativa de melhorar a sua mão, ou a opção de ficar, ficando com a mão atual. O jogador tem também a opção de dobrar a aposta, pedindo uma carta, mas dobrando o valor apostado.\n",
    "\n",
    "O dealer tem que pedir uma carta até que a sua mão tenha um valor de 17 ou mais.\n",
    "\n",
    "Se a mão do jogador ultrapassar 21 ele \"rebenta\" e perde o jogo.\n",
    "\n",
    "Se a mão do dealer passar de 21, o jogador ganha o jogo.\n",
    "\n",
    "Se nenhum rebentar, ganha aquele que tiver a soma mais próxima de 21.\n",
    "\n",
    "Em caso de empate não há vencedor.\n",
    "\n",
    "\n",
    "\n",
    "\n",
    "\n",
    "\n"
   ],
   "metadata": {
    "collapsed": false
   }
  },
  {
   "cell_type": "markdown",
   "source": [
    "## Espaço de ação"
   ],
   "metadata": {
    "collapsed": false
   }
  },
  {
   "cell_type": "markdown",
   "source": [
    "As ações possiveís são as seguintes:\n",
    "- 0: Ficar\n",
    "- 1: Pedir\n",
    "- 2: Dobrar"
   ],
   "metadata": {
    "collapsed": false
   }
  },
  {
   "cell_type": "markdown",
   "source": [
    "## Espaço de observação"
   ],
   "metadata": {
    "collapsed": false
   }
  },
  {
   "cell_type": "markdown",
   "source": [
    "A observação consiste num 3-tuplo que contém a soma atual do jogador, o valor da carta do dealer voltada para cima, (1-10, onde 1 é ás) e se o jogador tem um ás usável (0 ou 1)."
   ],
   "metadata": {
    "collapsed": false
   }
  },
  {
   "cell_type": "markdown",
   "source": [
    "## Estado inicial"
   ],
   "metadata": {
    "collapsed": false
   }
  },
  {
   "cell_type": "markdown",
   "source": [
    "O estado inicial é inicializado da seguinte maneira:\n",
    "\n",
    "- Soma atual do jogador: Min=4 Max=12\n",
    "- Valor da carta visivel do dealer: Min=2 Max=11\n",
    "- Ás usável: Min=0 Max=1"
   ],
   "metadata": {
    "collapsed": false
   }
  },
  {
   "cell_type": "markdown",
   "source": [
    "## Rewards"
   ],
   "metadata": {
    "collapsed": false
   }
  },
  {
   "cell_type": "markdown",
   "source": [
    "- Vencer o jogo: +1;\n",
    "- Perder o jogo: -1;\n",
    "- Empatar o jogo: 0;"
   ],
   "metadata": {
    "collapsed": false
   }
  },
  {
   "cell_type": "markdown",
   "source": [
    "## Final do episódio"
   ],
   "metadata": {
    "collapsed": false
   }
  },
  {
   "cell_type": "markdown",
   "source": [
    "O episódio termina se:\n",
    "1. O jogador pedir e a soma da sua mão ultrapassar 21;\n",
    "2. O jogador ficar."
   ],
   "metadata": {
    "collapsed": false
   }
  },
  {
   "cell_type": "markdown",
   "source": [
    "## Argumentos"
   ],
   "metadata": {
    "collapsed": false
   }
  },
  {
   "cell_type": "code",
   "execution_count": 1,
   "metadata": {
    "collapsed": true
   },
   "outputs": [
    {
     "data": {
      "text/plain": "<OrderEnforcing<PassiveEnvChecker<BlackjackEnv<Blackjack-v1>>>>"
     },
     "execution_count": 1,
     "metadata": {},
     "output_type": "execute_result"
    }
   ],
   "source": [
    "import time\n",
    "\n",
    "import gymnasium as gym\n",
    "gym.make('Blackjack-v1', natural=False, sab=True)"
   ]
  },
  {
   "cell_type": "markdown",
   "source": [
    "Desta forma a persença ou não de um blackjack natural é ignorada, contando apenas como vitória."
   ],
   "metadata": {
    "collapsed": false
   }
  },
  {
   "cell_type": "markdown",
   "source": [
    "## Instalação e import das bibliotecas necessárias"
   ],
   "metadata": {
    "collapsed": false
   }
  },
  {
   "cell_type": "code",
   "execution_count": 2,
   "outputs": [],
   "source": [
    "import matplotlib.pyplot as plt\n",
    "import numpy as np\n",
    "import seaborn as nsn\n",
    "from tqdm import tqdm\n",
    "import gymnasium as gym\n",
    "\n"
   ],
   "metadata": {
    "collapsed": false
   }
  },
  {
   "cell_type": "code",
   "execution_count": 3,
   "outputs": [],
   "source": [
    "env = gym.make('Blackjack-v1', natural=False, sab=True, render_mode=\"rgb_array\")"
   ],
   "metadata": {
    "collapsed": false
   }
  },
  {
   "cell_type": "markdown",
   "source": [
    "Implementação de um wrapper de modo a correr o environment."
   ],
   "metadata": {
    "collapsed": false
   }
  },
  {
   "cell_type": "code",
   "execution_count": 3,
   "outputs": [
    {
     "name": "stdout",
     "output_type": "stream",
     "text": [
      "jogo novo\n",
      "-1.0\n",
      "5\n",
      "jogo novo\n",
      "-1.0\n",
      "3\n",
      "jogo novo\n",
      "0.0\n",
      "6\n",
      "-1.0\n",
      "12\n",
      "jogo novo\n",
      "0.0\n",
      "2\n",
      "1.0\n",
      "4\n",
      "jogo novo\n",
      "-1.0\n",
      "2\n",
      "jogo novo\n",
      "0.0\n",
      "3\n",
      "-1.0\n",
      "6\n",
      "jogo novo\n",
      "-1.0\n",
      "8\n",
      "jogo novo\n",
      "1.0\n",
      "6\n",
      "jogo novo\n",
      "-1.0\n",
      "2\n",
      "jogo novo\n",
      "1.0\n",
      "10\n"
     ]
    }
   ],
   "source": [
    "import gymnasium as gym\n",
    "from gym import spaces\n",
    "import numpy as np\n",
    "import time\n",
    "\n",
    "class BlackjackWrapper(gym.Wrapper):\n",
    "    def __init__(self, env):\n",
    "        super(BlackjackWrapper, self).__init__(env)\n",
    "\n",
    "    def reset(self, **kwargs):\n",
    "        observation = self.env.reset(**kwargs)\n",
    "\n",
    "        return observation\n",
    "\n",
    "    def step(self, action):\n",
    "        next_state, reward, done, info, dict= self.env.step(action)\n",
    "\n",
    "        return next_state, reward, done, info, {}\n",
    "\n",
    "\n",
    "if __name__ == \"__main__\":\n",
    "    env = BlackjackWrapper(gym.make(\"Blackjack-v1\", sab=True, render_mode=\"human\"))\n",
    "\n",
    "    for ep in range(10):\n",
    "        observation = env.reset()\n",
    "        done = False\n",
    "        soma=0\n",
    "        print(\"jogo novo\")\n",
    "        while not done:\n",
    "            env.render()\n",
    "            action = env.action_space.sample()\n",
    "            observation, reward, done, _, dict = env.step(action)\n",
    "            v,n,m = observation\n",
    "            soma+=n\n",
    "            time.sleep(2)\n",
    "            print(reward)\n",
    "            print(soma)\n",
    "\n",
    "\n",
    "\n",
    "    env.close()\n"
   ],
   "metadata": {
    "collapsed": false
   }
  },
  {
   "cell_type": "code",
   "execution_count": 1,
   "outputs": [
    {
     "name": "stdout",
     "output_type": "stream",
     "text": [
      "Requirement already satisfied: gymnasium[toy-text] in c:\\users\\zezam\\pycharmprojects\\isia2\\venv\\lib\\site-packages (0.29.1)\n",
      "Requirement already satisfied: farama-notifications>=0.0.1 in c:\\users\\zezam\\pycharmprojects\\isia2\\venv\\lib\\site-packages (from gymnasium[toy-text]) (0.0.4)\n",
      "Requirement already satisfied: cloudpickle>=1.2.0 in c:\\users\\zezam\\pycharmprojects\\isia2\\venv\\lib\\site-packages (from gymnasium[toy-text]) (3.0.0)\n",
      "Requirement already satisfied: typing-extensions>=4.3.0 in c:\\users\\zezam\\pycharmprojects\\isia2\\venv\\lib\\site-packages (from gymnasium[toy-text]) (4.9.0)\n",
      "Requirement already satisfied: numpy>=1.21.0 in c:\\users\\zezam\\pycharmprojects\\isia2\\venv\\lib\\site-packages (from gymnasium[toy-text]) (1.26.2)\n",
      "Requirement already satisfied: pygame>=2.1.3 in c:\\users\\zezam\\pycharmprojects\\isia2\\venv\\lib\\site-packages (from gymnasium[toy-text]) (2.5.2)\n",
      "Note: you may need to restart the kernel to use updated packages.\n"
     ]
    },
    {
     "name": "stderr",
     "output_type": "stream",
     "text": [
      "\n",
      "[notice] A new release of pip available: 22.3.1 -> 23.3.1\n",
      "[notice] To update, run: python.exe -m pip install --upgrade pip\n"
     ]
    }
   ],
   "source": [
    "pip install gymnasium[toy-text]"
   ],
   "metadata": {
    "collapsed": false
   }
  },
  {
   "cell_type": "markdown",
   "source": [],
   "metadata": {
    "collapsed": false
   }
  },
  {
   "cell_type": "code",
   "execution_count": null,
   "outputs": [],
   "source": [],
   "metadata": {
    "collapsed": false
   }
  }
 ],
 "metadata": {
  "kernelspec": {
   "display_name": "Python 3",
   "language": "python",
   "name": "python3"
  },
  "language_info": {
   "codemirror_mode": {
    "name": "ipython",
    "version": 2
   },
   "file_extension": ".py",
   "mimetype": "text/x-python",
   "name": "python",
   "nbconvert_exporter": "python",
   "pygments_lexer": "ipython2",
   "version": "2.7.6"
  }
 },
 "nbformat": 4,
 "nbformat_minor": 0
}
