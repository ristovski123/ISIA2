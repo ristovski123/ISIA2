{
 "cells": [
  {
   "cell_type": "code",
   "execution_count": 1,
   "id": "b4a4e03e",
   "metadata": {},
   "outputs": [],
   "source": [
    "import pandas as pd\n",
    "import os"
   ]
  },
  {
   "cell_type": "code",
   "execution_count": 3,
   "id": "cdcc3362",
   "metadata": {},
   "outputs": [
    {
     "data": {
      "text/html": [
       "<div>\n",
       "<style scoped>\n",
       "    .dataframe tbody tr th:only-of-type {\n",
       "        vertical-align: middle;\n",
       "    }\n",
       "\n",
       "    .dataframe tbody tr th {\n",
       "        vertical-align: top;\n",
       "    }\n",
       "\n",
       "    .dataframe thead th {\n",
       "        text-align: right;\n",
       "    }\n",
       "</style>\n",
       "<table border=\"1\" class=\"dataframe\">\n",
       "  <thead>\n",
       "    <tr style=\"text-align: right;\">\n",
       "      <th></th>\n",
       "      <th>obs</th>\n",
       "      <th>action</th>\n",
       "      <th>rewards</th>\n",
       "    </tr>\n",
       "  </thead>\n",
       "  <tbody>\n",
       "    <tr>\n",
       "      <th>0</th>\n",
       "      <td>[13  2  0]</td>\n",
       "      <td>0.0</td>\n",
       "      <td>NaN</td>\n",
       "    </tr>\n",
       "    <tr>\n",
       "      <th>1</th>\n",
       "      <td>[13  2  0]</td>\n",
       "      <td>NaN</td>\n",
       "      <td>-1.0</td>\n",
       "    </tr>\n",
       "    <tr>\n",
       "      <th>2</th>\n",
       "      <td>[11 10  0]</td>\n",
       "      <td>1.0</td>\n",
       "      <td>NaN</td>\n",
       "    </tr>\n",
       "    <tr>\n",
       "      <th>3</th>\n",
       "      <td>[20 10  0]</td>\n",
       "      <td>0.0</td>\n",
       "      <td>NaN</td>\n",
       "    </tr>\n",
       "    <tr>\n",
       "      <th>4</th>\n",
       "      <td>[20 10  0]</td>\n",
       "      <td>NaN</td>\n",
       "      <td>0.0</td>\n",
       "    </tr>\n",
       "    <tr>\n",
       "      <th>...</th>\n",
       "      <td>...</td>\n",
       "      <td>...</td>\n",
       "      <td>...</td>\n",
       "    </tr>\n",
       "    <tr>\n",
       "      <th>254626</th>\n",
       "      <td>[16  1  0]</td>\n",
       "      <td>1.0</td>\n",
       "      <td>NaN</td>\n",
       "    </tr>\n",
       "    <tr>\n",
       "      <th>254627</th>\n",
       "      <td>[21  1  0]</td>\n",
       "      <td>0.0</td>\n",
       "      <td>NaN</td>\n",
       "    </tr>\n",
       "    <tr>\n",
       "      <th>254628</th>\n",
       "      <td>[21  1  0]</td>\n",
       "      <td>NaN</td>\n",
       "      <td>0.0</td>\n",
       "    </tr>\n",
       "    <tr>\n",
       "      <th>254629</th>\n",
       "      <td>[21  5  1]</td>\n",
       "      <td>0.0</td>\n",
       "      <td>NaN</td>\n",
       "    </tr>\n",
       "    <tr>\n",
       "      <th>254630</th>\n",
       "      <td>[21  5  1]</td>\n",
       "      <td>NaN</td>\n",
       "      <td>1.0</td>\n",
       "    </tr>\n",
       "  </tbody>\n",
       "</table>\n",
       "<p>254631 rows × 3 columns</p>\n",
       "</div>"
      ],
      "text/plain": [
       "               obs  action  rewards\n",
       "0       [13  2  0]     0.0      NaN\n",
       "1       [13  2  0]     NaN     -1.0\n",
       "2       [11 10  0]     1.0      NaN\n",
       "3       [20 10  0]     0.0      NaN\n",
       "4       [20 10  0]     NaN      0.0\n",
       "...            ...     ...      ...\n",
       "254626  [16  1  0]     1.0      NaN\n",
       "254627  [21  1  0]     0.0      NaN\n",
       "254628  [21  1  0]     NaN      0.0\n",
       "254629  [21  5  1]     0.0      NaN\n",
       "254630  [21  5  1]     NaN      1.0\n",
       "\n",
       "[254631 rows x 3 columns]"
      ]
     },
     "execution_count": 3,
     "metadata": {},
     "output_type": "execute_result"
    }
   ],
   "source": [
    "df = pd.read_csv('jogadas.csv')\n",
    "df"
   ]
  },
  {
   "cell_type": "code",
   "execution_count": 11,
   "id": "9e7407ba",
   "metadata": {},
   "outputs": [
    {
     "data": {
      "text/plain": [
       "obs         object\n",
       "action     float64\n",
       "rewards    float64\n",
       "dtype: object"
      ]
     },
     "execution_count": 11,
     "metadata": {},
     "output_type": "execute_result"
    }
   ],
   "source": [
    "df.dtypes"
   ]
  },
  {
   "cell_type": "code",
   "execution_count": 17,
   "id": "ffa08b87",
   "metadata": {},
   "outputs": [
    {
     "data": {
      "text/plain": [
       "<bound method NDFrame._add_numeric_operations.<locals>.mean of                obs  action  rewards\n",
       "0       [13  2  0]     0.0      NaN\n",
       "1       [13  2  0]     NaN     -1.0\n",
       "2       [11 10  0]     1.0      NaN\n",
       "3       [20 10  0]     0.0      NaN\n",
       "4       [20 10  0]     NaN      0.0\n",
       "...            ...     ...      ...\n",
       "254626  [16  1  0]     1.0      NaN\n",
       "254627  [21  1  0]     0.0      NaN\n",
       "254628  [21  1  0]     NaN      0.0\n",
       "254629  [21  5  1]     0.0      NaN\n",
       "254630  [21  5  1]     NaN      1.0\n",
       "\n",
       "[254631 rows x 3 columns]>"
      ]
     },
     "execution_count": 17,
     "metadata": {},
     "output_type": "execute_result"
    }
   ],
   "source": [
    "df.mean"
   ]
  },
  {
   "cell_type": "code",
   "execution_count": 16,
   "id": "1099ecff",
   "metadata": {},
   "outputs": [
    {
     "data": {
      "text/plain": [
       "<bound method DataFrame.value_counts of                obs  action  rewards\n",
       "0       [13  2  0]     0.0      NaN\n",
       "1       [13  2  0]     NaN     -1.0\n",
       "2       [11 10  0]     1.0      NaN\n",
       "3       [20 10  0]     0.0      NaN\n",
       "4       [20 10  0]     NaN      0.0\n",
       "...            ...     ...      ...\n",
       "254626  [16  1  0]     1.0      NaN\n",
       "254627  [21  1  0]     0.0      NaN\n",
       "254628  [21  1  0]     NaN      0.0\n",
       "254629  [21  5  1]     0.0      NaN\n",
       "254630  [21  5  1]     NaN      1.0\n",
       "\n",
       "[254631 rows x 3 columns]>"
      ]
     },
     "execution_count": 16,
     "metadata": {},
     "output_type": "execute_result"
    }
   ],
   "source": [
    "df.value_counts"
   ]
  },
  {
   "cell_type": "code",
   "execution_count": null,
   "id": "6ba44c9c",
   "metadata": {},
   "outputs": [],
   "source": [
    "df.groupby([\"obs\", \"reward\"]).sum()\n"
   ]
  },
  {
   "cell_type": "code",
   "execution_count": 6,
   "id": "4b22f90f",
   "metadata": {},
   "outputs": [
    {
     "name": "stdout",
     "output_type": "stream",
     "text": [
      "   action  num_episodes  win_rate\n",
      "0     0.0             0       NaN\n",
      "1     1.0             0       NaN\n"
     ]
    }
   ],
   "source": [
    "grouped_data = df.groupby('action')['rewards'].agg(['count', 'mean']).reset_index()\n",
    "\n",
    "# Rename the columns for clarity\n",
    "grouped_data.rename(columns={'count': 'num_episodes', 'mean': 'win_rate'}, inplace=True)\n",
    "\n",
    "# Display the grouped data\n",
    "print(grouped_data)"
   ]
  },
  {
   "cell_type": "code",
   "execution_count": null,
   "id": "843bbeb4",
   "metadata": {},
   "outputs": [],
   "source": []
  }
 ],
 "metadata": {
  "kernelspec": {
   "display_name": "Python 3 (ipykernel)",
   "language": "python",
   "name": "python3"
  },
  "language_info": {
   "codemirror_mode": {
    "name": "ipython",
    "version": 3
   },
   "file_extension": ".py",
   "mimetype": "text/x-python",
   "name": "python",
   "nbconvert_exporter": "python",
   "pygments_lexer": "ipython3",
   "version": "3.10.2"
  }
 },
 "nbformat": 4,
 "nbformat_minor": 5
}
